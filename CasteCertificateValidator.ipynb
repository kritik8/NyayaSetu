{
  "nbformat": 4,
  "nbformat_minor": 0,
  "metadata": {
    "colab": {
      "provenance": [],
      "gpuType": "T4"
    },
    "kernelspec": {
      "name": "python3",
      "display_name": "Python 3"
    },
    "language_info": {
      "name": "python"
    },
    "accelerator": "GPU"
  },
  "cells": [
    {
      "cell_type": "markdown",
      "metadata": {
        "id": "9be2ee76"
      },
      "source": [
        "# Task\n",
        "Implement a function to handle both image files (.jpg, .png) and PDF files (.pdf) as input, converting PDF files to images page-by-page using `pdf2image` and `PIL`."
      ]
    },
    {
      "cell_type": "markdown",
      "metadata": {
        "id": "f9ce4c4e"
      },
      "source": [
        "## Install necessary libraries\n",
        "\n",
        "### Subtask:\n",
        "Install `pdf2image` for converting PDFs to images and any other required libraries.\n"
      ]
    },
    {
      "cell_type": "markdown",
      "metadata": {
        "id": "7e0e678a"
      },
      "source": [
        "**Reasoning**:\n",
        "Install the required libraries `pdf2image` and `Pillow` using pip.\n",
        "\n"
      ]
    },
    {
      "cell_type": "code",
      "metadata": {
        "colab": {
          "base_uri": "https://localhost:8080/"
        },
        "id": "7620e9e4",
        "outputId": "870b2a20-bcd8-4726-df97-ccd300ee3c3c"
      },
      "source": [
        "%pip install pdf2image Pillow"
      ],
      "execution_count": 1,
      "outputs": [
        {
          "output_type": "stream",
          "name": "stdout",
          "text": [
            "Collecting pdf2image\n",
            "  Downloading pdf2image-1.17.0-py3-none-any.whl.metadata (6.2 kB)\n",
            "Requirement already satisfied: Pillow in /usr/local/lib/python3.12/dist-packages (11.3.0)\n",
            "Downloading pdf2image-1.17.0-py3-none-any.whl (11 kB)\n",
            "Installing collected packages: pdf2image\n",
            "Successfully installed pdf2image-1.17.0\n"
          ]
        }
      ]
    },
    {
      "cell_type": "markdown",
      "metadata": {
        "id": "525bd701"
      },
      "source": [
        "## Implement pdf to image conversion\n",
        "\n",
        "### Subtask:\n",
        "Write a function to convert PDF files to a list of images, handling potential errors.\n"
      ]
    },
    {
      "cell_type": "markdown",
      "metadata": {
        "id": "45f248ef"
      },
      "source": [
        "**Reasoning**:\n",
        "Define a function to convert a PDF file to a list of images using `pdf2image` and include error handling.\n",
        "\n"
      ]
    },
    {
      "cell_type": "code",
      "metadata": {
        "id": "16af728d"
      },
      "source": [
        "from pdf2image import convert_from_path\n",
        "from PIL import Image\n",
        "\n",
        "def pdf_to_images(pdf_path):\n",
        "    \"\"\"Converts a PDF file to a list of PIL Image objects.\n",
        "\n",
        "    Args:\n",
        "        pdf_path: The path to the PDF file.\n",
        "\n",
        "    Returns:\n",
        "        A list of PIL Image objects if successful, otherwise None.\n",
        "    \"\"\"\n",
        "    try:\n",
        "        images = convert_from_path(pdf_path)\n",
        "        return images\n",
        "    except Exception as e:\n",
        "        print(f\"Error converting PDF to images: {e}\")\n",
        "        return None\n"
      ],
      "execution_count": 3,
      "outputs": []
    },
    {
      "cell_type": "markdown",
      "metadata": {
        "id": "3760f3d1"
      },
      "source": [
        "## Implement image handling\n",
        "\n",
        "### Subtask:\n",
        "Write a function to handle image files, which can be used after converting PDFs or directly for image inputs.\n"
      ]
    },
    {
      "cell_type": "markdown",
      "metadata": {
        "id": "52acecb7"
      },
      "source": [
        "**Reasoning**:\n",
        "Define the `handle_image_input` function to handle image files as per the instructions.\n",
        "\n"
      ]
    },
    {
      "cell_type": "code",
      "metadata": {
        "id": "2abeb6aa"
      },
      "source": [
        "import os\n",
        "from PIL import Image\n",
        "\n",
        "def handle_image_input(file_path):\n",
        "    \"\"\"Handles image files (jpg, png) and returns a PIL Image object.\n",
        "\n",
        "    Args:\n",
        "        file_path: The path to the image file.\n",
        "\n",
        "    Returns:\n",
        "        A PIL Image object if successful, otherwise None.\n",
        "    \"\"\"\n",
        "    if not os.path.exists(file_path):\n",
        "        print(f\"Error: File not found at {file_path}\")\n",
        "        return None\n",
        "\n",
        "    valid_extensions = ['.jpg', '.jpeg', '.png']\n",
        "    file_extension = os.path.splitext(file_path)[1].lower()\n",
        "\n",
        "    if file_extension not in valid_extensions:\n",
        "        print(f\"Error: Invalid image file type. Supported types are {', '.join(valid_extensions)}\")\n",
        "        return None\n",
        "\n",
        "    try:\n",
        "        img = Image.open(file_path)\n",
        "        return img\n",
        "    except Exception as e:\n",
        "        print(f\"Error opening image file {file_path}: {e}\")\n",
        "        return None"
      ],
      "execution_count": 4,
      "outputs": []
    },
    {
      "cell_type": "markdown",
      "metadata": {
        "id": "b679ae3c"
      },
      "source": [
        "## Create a unified input handler\n",
        "\n",
        "### Subtask:\n",
        "Combine the PDF conversion and image handling logic into a single function that accepts both file types.\n"
      ]
    },
    {
      "cell_type": "markdown",
      "metadata": {
        "id": "e0e92d2b"
      },
      "source": [
        "**Reasoning**:\n",
        "Combine the PDF conversion and image handling logic into a single function that accepts both file types.\n",
        "\n"
      ]
    },
    {
      "cell_type": "code",
      "metadata": {
        "id": "086a08f7"
      },
      "source": [
        "import os\n",
        "\n",
        "def handle_file_input(file_path):\n",
        "    \"\"\"Handles both image and PDF files, converting PDFs to images page-by-page.\n",
        "\n",
        "    Args:\n",
        "        file_path: The path to the file (image or PDF).\n",
        "\n",
        "    Returns:\n",
        "        A list of PIL Image objects if successful, otherwise None or an empty list.\n",
        "    \"\"\"\n",
        "    if not os.path.exists(file_path):\n",
        "        print(f\"Error: File not found at {file_path}\")\n",
        "        return None\n",
        "\n",
        "    file_extension = os.path.splitext(file_path)[1].lower()\n",
        "\n",
        "    if file_extension == '.pdf':\n",
        "        return pdf_to_images(file_path)\n",
        "    elif file_extension in ['.jpg', '.jpeg', '.png']:\n",
        "        img = handle_image_input(file_path)\n",
        "        if img:\n",
        "            return [img]  # Wrap single image in a list for consistency\n",
        "        else:\n",
        "            return None\n",
        "    else:\n",
        "        print(f\"Error: Unsupported file type: {file_extension}\")\n",
        "        return []\n"
      ],
      "execution_count": 5,
      "outputs": []
    },
    {
      "cell_type": "markdown",
      "metadata": {
        "id": "6c508eb9"
      },
      "source": [
        "## Summary:\n",
        "\n",
        "### Data Analysis Key Findings\n",
        "\n",
        "*   The necessary libraries, `pdf2image` and `Pillow`, were successfully installed.\n",
        "*   A function `pdf_to_images` was implemented to convert PDF files to a list of PIL Image objects, including error handling.\n",
        "*   A function `handle_image_input` was created to handle image files (jpg, jpeg, png), including checks for file existence, valid extensions, and error handling during opening.\n",
        "*   A unified function `handle_file_input` was developed to process both image and PDF files, utilizing the previously created functions and returning a list of PIL Image objects for consistency.\n",
        "\n",
        "### Insights or Next Steps\n",
        "\n",
        "*   The implemented `handle_file_input` function provides a flexible interface for processing both image and PDF inputs.\n",
        "*   Consider adding more robust error handling and logging within the functions for production use.\n"
      ]
    },
    {
      "cell_type": "markdown",
      "metadata": {
        "id": "0e3f0061"
      },
      "source": [
        "# Task\n",
        "Implement a solution to extract text from image and PDF files using OCR, supporting both English and Hindi languages."
      ]
    },
    {
      "cell_type": "markdown",
      "metadata": {
        "id": "2c7f3206"
      },
      "source": [
        "## Install tesseract ocr\n",
        "\n",
        "### Subtask:\n",
        "Install Tesseract OCR engine and its language packs for English and Hindi.\n"
      ]
    },
    {
      "cell_type": "markdown",
      "metadata": {
        "id": "df7e3d0b"
      },
      "source": [
        "**Reasoning**:\n",
        "Install Tesseract OCR engine and the English and Hindi language packs using apt-get, as the environment appears to be Debian/Ubuntu-based.\n",
        "\n"
      ]
    },
    {
      "cell_type": "markdown",
      "metadata": {
        "id": "6ae20974"
      },
      "source": [
        "**Reasoning**:\n",
        "The previous command failed because a line magic function was used incorrectly. The correct way to execute shell commands like `apt-get` in a Jupyter notebook cell is without the `%` prefix.\n",
        "\n"
      ]
    },
    {
      "cell_type": "code",
      "metadata": {
        "colab": {
          "base_uri": "https://localhost:8080/"
        },
        "id": "ZxgP-YrgLveA",
        "outputId": "e286c622-6e0f-4722-cf3a-6a3212fcc02e"
      },
      "source": [
        "!sudo apt-get update\n",
        "!sudo apt-get install -y tesseract-ocr tesseract-ocr-eng tesseract-ocr-hin"
      ],
      "execution_count": 8,
      "outputs": [
        {
          "output_type": "stream",
          "name": "stdout",
          "text": [
            "\r0% [Working]\r            \rHit:1 https://developer.download.nvidia.com/compute/cuda/repos/ubuntu2204/x86_64  InRelease\n",
            "\r0% [Connecting to archive.ubuntu.com (185.125.190.81)] [Connecting to security.\r                                                                               \rHit:2 https://cli.github.com/packages stable InRelease\n",
            "Hit:3 https://cloud.r-project.org/bin/linux/ubuntu jammy-cran40/ InRelease\n",
            "Hit:4 http://archive.ubuntu.com/ubuntu jammy InRelease\n",
            "Hit:5 http://security.ubuntu.com/ubuntu jammy-security InRelease\n",
            "Get:6 http://archive.ubuntu.com/ubuntu jammy-updates InRelease [128 kB]\n",
            "Hit:7 https://r2u.stat.illinois.edu/ubuntu jammy InRelease\n",
            "Hit:8 https://ppa.launchpadcontent.net/deadsnakes/ppa/ubuntu jammy InRelease\n",
            "Hit:9 https://ppa.launchpadcontent.net/graphics-drivers/ppa/ubuntu jammy InRelease\n",
            "Hit:10 http://archive.ubuntu.com/ubuntu jammy-backports InRelease\n",
            "Hit:11 https://ppa.launchpadcontent.net/ubuntugis/ppa/ubuntu jammy InRelease\n",
            "Get:12 http://archive.ubuntu.com/ubuntu jammy-updates/restricted amd64 Packages [5,936 kB]\n",
            "Get:13 http://archive.ubuntu.com/ubuntu jammy-updates/main amd64 Packages [3,755 kB]\n",
            "Fetched 9,820 kB in 2s (4,044 kB/s)\n",
            "Reading package lists... Done\n",
            "W: Skipping acquire of configured file 'main/source/Sources' as repository 'https://r2u.stat.illinois.edu/ubuntu jammy InRelease' does not seem to provide it (sources.list entry misspelt?)\n",
            "Reading package lists... Done\n",
            "Building dependency tree... Done\n",
            "Reading state information... Done\n",
            "tesseract-ocr is already the newest version (4.1.1-2.1build1).\n",
            "tesseract-ocr-eng is already the newest version (1:4.00~git30-7274cfa-1.1).\n",
            "tesseract-ocr-hin is already the newest version (1:4.00~git30-7274cfa-1.1).\n",
            "0 upgraded, 0 newly installed, 0 to remove and 39 not upgraded.\n"
          ]
        }
      ]
    },
    {
      "cell_type": "markdown",
      "metadata": {
        "id": "e90caa62"
      },
      "source": [
        "## Install pytesseract\n",
        "\n",
        "### Subtask:\n",
        "Install the `pytesseract` library, which is a Python wrapper for Tesseract.\n"
      ]
    },
    {
      "cell_type": "markdown",
      "metadata": {
        "id": "014f7807"
      },
      "source": [
        "**Reasoning**:\n",
        "Install the `pytesseract` library using pip.\n",
        "\n"
      ]
    },
    {
      "cell_type": "code",
      "metadata": {
        "colab": {
          "base_uri": "https://localhost:8080/"
        },
        "id": "2ca518e3",
        "outputId": "e21532af-3e6a-491f-f035-8653039a873c"
      },
      "source": [
        "%pip install pytesseract"
      ],
      "execution_count": 9,
      "outputs": [
        {
          "output_type": "stream",
          "name": "stdout",
          "text": [
            "Collecting pytesseract\n",
            "  Downloading pytesseract-0.3.13-py3-none-any.whl.metadata (11 kB)\n",
            "Requirement already satisfied: packaging>=21.3 in /usr/local/lib/python3.12/dist-packages (from pytesseract) (25.0)\n",
            "Requirement already satisfied: Pillow>=8.0.0 in /usr/local/lib/python3.12/dist-packages (from pytesseract) (11.3.0)\n",
            "Downloading pytesseract-0.3.13-py3-none-any.whl (14 kB)\n",
            "Installing collected packages: pytesseract\n",
            "Successfully installed pytesseract-0.3.13\n"
          ]
        }
      ]
    },
    {
      "cell_type": "markdown",
      "metadata": {
        "id": "e96d3fcd"
      },
      "source": [
        "## Implement ocr function\n",
        "\n",
        "### Subtask:\n",
        "Write a function that takes an image (or a list of images from PDF conversion) and performs OCR using `pytesseract`, specifying the languages to use (English and Hindi).\n"
      ]
    },
    {
      "cell_type": "markdown",
      "metadata": {
        "id": "0f33d183"
      },
      "source": [
        "**Reasoning**:\n",
        "Define the function to perform OCR on images using pytesseract with English and Hindi languages.\n",
        "\n"
      ]
    },
    {
      "cell_type": "code",
      "metadata": {
        "id": "f67a678b"
      },
      "source": [
        "import pytesseract\n",
        "\n",
        "def perform_ocr(images):\n",
        "    \"\"\"Performs OCR on a single image or a list of images using pytesseract.\n",
        "\n",
        "    Args:\n",
        "        images: A single PIL Image object or a list of PIL Image objects.\n",
        "\n",
        "    Returns:\n",
        "        A string containing the extracted text, or None if an error occurs.\n",
        "    \"\"\"\n",
        "    extracted_text = \"\"\n",
        "    if not isinstance(images, list):\n",
        "        images = [images]  # Ensure we always work with a list\n",
        "\n",
        "    for img in images:\n",
        "        try:\n",
        "            text = pytesseract.image_to_string(img, lang='eng+hin')\n",
        "            extracted_text += text + \"\\n\"  # Add newline between pages/images\n",
        "        except Exception as e:\n",
        "            print(f\"Error during OCR processing: {e}\")\n",
        "            return None\n",
        "    return extracted_text.strip() # Remove leading/trailing whitespace"
      ],
      "execution_count": 10,
      "outputs": []
    },
    {
      "cell_type": "markdown",
      "metadata": {
        "id": "96baf50a"
      },
      "source": [
        "## Integrate ocr with file handling\n",
        "\n",
        "### Subtask:\n",
        "Modify the unified input handler or create a new function to take the output of the file handling (list of images) and pass it to the OCR function.\n"
      ]
    },
    {
      "cell_type": "markdown",
      "metadata": {
        "id": "4de168f4"
      },
      "source": [
        "**Reasoning**:\n",
        "Define the `process_file_with_ocr` function to handle file input, call `handle_file_input`, and then call `perform_ocr` on the resulting images.\n",
        "\n"
      ]
    },
    {
      "cell_type": "code",
      "metadata": {
        "id": "9468add5"
      },
      "source": [
        "def process_file_with_ocr(file_path):\n",
        "    \"\"\"Handles image and PDF files, performs OCR, and returns extracted text.\n",
        "\n",
        "    Args:\n",
        "        file_path: The path to the file (image or PDF).\n",
        "\n",
        "    Returns:\n",
        "        A string containing the extracted text if successful, otherwise None.\n",
        "    \"\"\"\n",
        "    images = handle_file_input(file_path)\n",
        "\n",
        "    if images is None or not images:\n",
        "        print(\"Error: Could not get valid images from the file.\")\n",
        "        return None\n",
        "\n",
        "    extracted_text = perform_ocr(images)\n",
        "\n",
        "    if extracted_text is None:\n",
        "        print(\"Error: OCR failed to extract text.\")\n",
        "        return None\n",
        "\n",
        "    return extracted_text"
      ],
      "execution_count": 11,
      "outputs": []
    },
    {
      "cell_type": "markdown",
      "metadata": {
        "id": "a3607277"
      },
      "source": [
        "## Output extracted text\n",
        "\n",
        "### Subtask:\n",
        "Display or return the text extracted from the images.\n"
      ]
    },
    {
      "cell_type": "markdown",
      "metadata": {
        "id": "5236ec94"
      },
      "source": [
        "**Reasoning**:\n",
        "Call the `process_file_with_ocr` function with a test file path and print the returned text.\n",
        "\n"
      ]
    },
    {
      "cell_type": "code",
      "metadata": {
        "colab": {
          "base_uri": "https://localhost:8080/",
          "height": 228
        },
        "id": "507a73e6",
        "outputId": "bf9d47d1-40d2-4b4b-e5e6-8ddb167ee6a5"
      },
      "source": [
        "# Create a dummy test file for demonstration purposes\n",
        "# This should be replaced with a real file path for actual testing\n",
        "dummy_image_path = \"test_image.png\"\n",
        "try:\n",
        "    img = Image.new('RGB', (60, 30), color = (255, 255, 255))\n",
        "    d = ImageDraw.Draw(img)\n",
        "    d.text((10,10), \"Hello World\", fill=(0,0,0)) # English text\n",
        "    # For Hindi text, you would need a font that supports Hindi characters\n",
        "    # d.text((10,20), \"नमस्ते दुनिया\", fill=(0,0,0), font=hindi_font) # Hindi text (requires a Hindi font)\n",
        "    img.save(dummy_image_path)\n",
        "except ImportError:\n",
        "    print(\"Pillow is needed to create a dummy image. Please ensure it's installed.\")\n",
        "    dummy_image_path = None\n",
        "\n",
        "if dummy_image_path and os.path.exists(dummy_image_path):\n",
        "    extracted_text = process_file_with_ocr(dummy_image_path)\n",
        "\n",
        "    if extracted_text is not None:\n",
        "        print(\"Extracted Text:\")\n",
        "        print(extracted_text)\n",
        "    else:\n",
        "        print(\"Text extraction failed.\")\n",
        "\n",
        "    # Clean up the dummy file\n",
        "    # os.remove(dummy_image_path)\n",
        "else:\n",
        "    print(\"Could not create a dummy image file for testing.\")"
      ],
      "execution_count": 12,
      "outputs": [
        {
          "output_type": "error",
          "ename": "NameError",
          "evalue": "name 'ImageDraw' is not defined",
          "traceback": [
            "\u001b[0;31m---------------------------------------------------------------------------\u001b[0m",
            "\u001b[0;31mNameError\u001b[0m                                 Traceback (most recent call last)",
            "\u001b[0;32m/tmp/ipython-input-1117850014.py\u001b[0m in \u001b[0;36m<cell line: 0>\u001b[0;34m()\u001b[0m\n\u001b[1;32m      4\u001b[0m \u001b[0;32mtry\u001b[0m\u001b[0;34m:\u001b[0m\u001b[0;34m\u001b[0m\u001b[0;34m\u001b[0m\u001b[0m\n\u001b[1;32m      5\u001b[0m     \u001b[0mimg\u001b[0m \u001b[0;34m=\u001b[0m \u001b[0mImage\u001b[0m\u001b[0;34m.\u001b[0m\u001b[0mnew\u001b[0m\u001b[0;34m(\u001b[0m\u001b[0;34m'RGB'\u001b[0m\u001b[0;34m,\u001b[0m \u001b[0;34m(\u001b[0m\u001b[0;36m60\u001b[0m\u001b[0;34m,\u001b[0m \u001b[0;36m30\u001b[0m\u001b[0;34m)\u001b[0m\u001b[0;34m,\u001b[0m \u001b[0mcolor\u001b[0m \u001b[0;34m=\u001b[0m \u001b[0;34m(\u001b[0m\u001b[0;36m255\u001b[0m\u001b[0;34m,\u001b[0m \u001b[0;36m255\u001b[0m\u001b[0;34m,\u001b[0m \u001b[0;36m255\u001b[0m\u001b[0;34m)\u001b[0m\u001b[0;34m)\u001b[0m\u001b[0;34m\u001b[0m\u001b[0;34m\u001b[0m\u001b[0m\n\u001b[0;32m----> 6\u001b[0;31m     \u001b[0md\u001b[0m \u001b[0;34m=\u001b[0m \u001b[0mImageDraw\u001b[0m\u001b[0;34m.\u001b[0m\u001b[0mDraw\u001b[0m\u001b[0;34m(\u001b[0m\u001b[0mimg\u001b[0m\u001b[0;34m)\u001b[0m\u001b[0;34m\u001b[0m\u001b[0;34m\u001b[0m\u001b[0m\n\u001b[0m\u001b[1;32m      7\u001b[0m     \u001b[0md\u001b[0m\u001b[0;34m.\u001b[0m\u001b[0mtext\u001b[0m\u001b[0;34m(\u001b[0m\u001b[0;34m(\u001b[0m\u001b[0;36m10\u001b[0m\u001b[0;34m,\u001b[0m\u001b[0;36m10\u001b[0m\u001b[0;34m)\u001b[0m\u001b[0;34m,\u001b[0m \u001b[0;34m\"Hello World\"\u001b[0m\u001b[0;34m,\u001b[0m \u001b[0mfill\u001b[0m\u001b[0;34m=\u001b[0m\u001b[0;34m(\u001b[0m\u001b[0;36m0\u001b[0m\u001b[0;34m,\u001b[0m\u001b[0;36m0\u001b[0m\u001b[0;34m,\u001b[0m\u001b[0;36m0\u001b[0m\u001b[0;34m)\u001b[0m\u001b[0;34m)\u001b[0m \u001b[0;31m# English text\u001b[0m\u001b[0;34m\u001b[0m\u001b[0;34m\u001b[0m\u001b[0m\n\u001b[1;32m      8\u001b[0m     \u001b[0;31m# For Hindi text, you would need a font that supports Hindi characters\u001b[0m\u001b[0;34m\u001b[0m\u001b[0;34m\u001b[0m\u001b[0m\n",
            "\u001b[0;31mNameError\u001b[0m: name 'ImageDraw' is not defined"
          ]
        }
      ]
    },
    {
      "cell_type": "markdown",
      "metadata": {
        "id": "5f4c3dfd"
      },
      "source": [
        "**Reasoning**:\n",
        "The previous code failed because `ImageDraw` was not imported. Import `ImageDraw` and re-execute the code to create a dummy image, process it with OCR, and display the extracted text.\n",
        "\n"
      ]
    },
    {
      "cell_type": "code",
      "metadata": {
        "colab": {
          "base_uri": "https://localhost:8080/"
        },
        "id": "xux9tPwkMTbq",
        "outputId": "544ea33b-bb58-40dc-c11c-6603f81c9a4c"
      },
      "source": [
        "from PIL import ImageDraw\n",
        "import os\n",
        "\n",
        "# Create a dummy test file for demonstration purposes\n",
        "# This should be replaced with a real file path for actual testing\n",
        "dummy_image_path = \"test_image.png\"\n",
        "try:\n",
        "    img = Image.new('RGB', (150, 50), color = (255, 255, 255))\n",
        "    d = ImageDraw.Draw(img)\n",
        "    d.text((10,10), \"Hello World\", fill=(0,0,0)) # English text\n",
        "    # For Hindi text, you would need a font that supports Hindi characters\n",
        "    # d.text((10,30), \"नमस्ते दुनिया\", fill=(0,0,0), font=hindi_font) # Hindi text (requires a Hindi font)\n",
        "    img.save(dummy_image_path)\n",
        "except ImportError:\n",
        "    print(\"Pillow is needed to create a dummy image. Please ensure it's installed.\")\n",
        "    dummy_image_path = None\n",
        "\n",
        "if dummy_image_path and os.path.exists(dummy_image_path):\n",
        "    extracted_text = process_file_with_ocr(dummy_image_path)\n",
        "\n",
        "    if extracted_text is not None:\n",
        "        print(\"Extracted Text:\")\n",
        "        print(extracted_text)\n",
        "    else:\n",
        "        print(\"Text extraction failed.\")\n",
        "\n",
        "    # Clean up the dummy file\n",
        "    # os.remove(dummy_image_path)\n",
        "else:\n",
        "    print(\"Could not create a dummy image file for testing.\")"
      ],
      "execution_count": 13,
      "outputs": [
        {
          "output_type": "stream",
          "name": "stdout",
          "text": [
            "Extracted Text:\n",
            "Helloword\n"
          ]
        }
      ]
    },
    {
      "cell_type": "markdown",
      "metadata": {
        "id": "d1b19d33"
      },
      "source": [
        "## Summary:\n",
        "\n",
        "### Data Analysis Key Findings\n",
        "\n",
        "*   Tesseract OCR and its English and Hindi language packs (`tesseract-ocr-eng`, `tesseract-ocr-hin`) were confirmed to be already installed on the system.\n",
        "*   The `pytesseract` Python library was successfully installed.\n",
        "*   A Python function `perform_ocr` was defined to extract text from one or more images using `pytesseract` with support for both English and Hindi languages (`lang='eng+hin'`).\n",
        "*   A function `process_file_with_ocr` was created to handle file input (image or PDF), obtain images, and pass them to the `perform_ocr` function.\n",
        "*   A demonstration using a dummy image with English text successfully extracted and displayed the text \"Helloworld\".\n",
        "\n",
        "### Insights or Next Steps\n",
        "\n",
        "*   Implement the `handle_file_input` function to correctly process both image and PDF file types into a list of images.\n",
        "*   Test the complete solution with actual image files containing both English and Hindi text, as well as PDF files containing text in both languages, to verify the full functionality.\n"
      ]
    },
    {
      "cell_type": "markdown",
      "metadata": {
        "id": "93e20d62"
      },
      "source": [
        "# Task\n",
        "Implement a function to detect caste category from text extracted from a caste certificate image or PDF, and integrate it into the OCR processing workflow."
      ]
    },
    {
      "cell_type": "markdown",
      "metadata": {
        "id": "2e0d3d77"
      },
      "source": [
        "## Implement caste detection function\n",
        "\n",
        "### Subtask:\n",
        "Define a function `detect_caste_category` that takes the extracted text as input and uses keyword matching to identify the caste category (SC, ST, OBC, EWS).\n"
      ]
    },
    {
      "cell_type": "markdown",
      "metadata": {
        "id": "8d1ac68b"
      },
      "source": [
        "**Reasoning**:\n",
        "Define the `detect_caste_category` function according to the instructions, including keyword lists for each category and logic for checking keywords in the input text.\n",
        "\n"
      ]
    },
    {
      "cell_type": "code",
      "metadata": {
        "id": "1450248e"
      },
      "source": [
        "def detect_caste_category(text):\n",
        "    \"\"\"\n",
        "    Detects caste category (SC, ST, OBC, EWS) from input text using keyword matching.\n",
        "\n",
        "    Args:\n",
        "        text: The input text extracted from a document.\n",
        "\n",
        "    Returns:\n",
        "        A string representing the detected caste category (SC, ST, OBC, EWS)\n",
        "        or \"Unknown\" if no category is matched.\n",
        "    \"\"\"\n",
        "    if not isinstance(text, str):\n",
        "        return \"Unknown\"\n",
        "\n",
        "    text_lower = text.lower()\n",
        "\n",
        "    # Define keywords for each category. Include common variations and Hindi terms.\n",
        "    caste_keywords = {\n",
        "        \"SC\": [\"scheduled caste\", \"sc\", \"अनुसुचित जाति\", \"anusuchit jati\"],\n",
        "        \"ST\": [\"scheduled tribe\", \"st\", \"अनुसुचित जनजाति\", \"anusuchit janajati\"],\n",
        "        \"OBC\": [\"other backward classes\", \"obc\", \"अन्य पिछड़ा वर्ग\", \"anya pichhada varg\"],\n",
        "        \"EWS\": [\"economically weaker sections\", \"ews\", \"आर्थिक रूप से कमजोर वर्ग\", \"arthik roop se kamjor varg\"]\n",
        "    }\n",
        "\n",
        "    for category, keywords in caste_keywords.items():\n",
        "        for keyword in keywords:\n",
        "            if keyword.lower() in text_lower:\n",
        "                return category\n",
        "\n",
        "    return \"Unknown\""
      ],
      "execution_count": 24,
      "outputs": []
    },
    {
      "cell_type": "markdown",
      "metadata": {
        "id": "f6629b0d"
      },
      "source": [
        "## Integrate caste detection with ocr process\n",
        "\n",
        "### Subtask:\n",
        "Modify the existing `process_file_with_ocr` function or create a new function to include the caste detection step after the text extraction.\n"
      ]
    },
    {
      "cell_type": "markdown",
      "metadata": {
        "id": "b9a36a23"
      },
      "source": [
        "**Reasoning**:\n",
        "Define a new function `process_and_detect_caste` that calls `process_file_with_ocr` and `detect_caste_category` to combine text extraction and caste detection.\n",
        "\n"
      ]
    },
    {
      "cell_type": "code",
      "metadata": {
        "id": "34ca49f6"
      },
      "source": [
        "def process_and_detect_caste(file_path):\n",
        "    \"\"\"Handles file input, performs OCR, detects caste category, and returns results.\n",
        "\n",
        "    Args:\n",
        "        file_path: The path to the file (image or PDF).\n",
        "\n",
        "    Returns:\n",
        "        A tuple containing the extracted text (string) and the detected caste category (string),\n",
        "        or (None, None) if processing fails.\n",
        "    \"\"\"\n",
        "    extracted_text = process_file_with_ocr(file_path)\n",
        "\n",
        "    if extracted_text is None:\n",
        "        print(\"Error: Text extraction failed.\")\n",
        "        return None, None\n",
        "\n",
        "    detected_category = detect_caste_category(extracted_text)\n",
        "\n",
        "    return extracted_text, detected_category"
      ],
      "execution_count": 15,
      "outputs": []
    },
    {
      "cell_type": "markdown",
      "metadata": {
        "id": "fdd2c324"
      },
      "source": [
        "## Output detected caste category\n",
        "\n",
        "### Subtask:\n",
        "Display or return the detected caste category along with the extracted text.\n"
      ]
    },
    {
      "cell_type": "markdown",
      "metadata": {
        "id": "9c8463ab"
      },
      "source": [
        "**Reasoning**:\n",
        "Call the `process_and_detect_caste` function with a dummy test file path, handle potential errors, and print the extracted text and detected category if successful.\n",
        "\n"
      ]
    },
    {
      "cell_type": "code",
      "metadata": {
        "colab": {
          "base_uri": "https://localhost:8080/"
        },
        "id": "5292d2f7",
        "outputId": "76b6aaa3-fcbe-4ace-effe-82175ee7f959"
      },
      "source": [
        "from PIL import ImageDraw\n",
        "import os\n",
        "\n",
        "# Create a dummy test file for demonstration purposes\n",
        "# This should be replaced with a real file path for actual testing\n",
        "dummy_image_path = \"test_caste_image.png\"\n",
        "try:\n",
        "    img = Image.new('RGB', (400, 100), color = (255, 255, 255))\n",
        "    d = ImageDraw.Draw(img)\n",
        "    d.text((10,10), \"This is a certificate for a Scheduled Caste member.\", fill=(0,0,0)) # English text with SC keyword\n",
        "    # For Hindi text, you would need a font that supports Hindi characters\n",
        "    # d.text((10,50), \"यह एक अनुसुचित जाति सदस्य के लिए प्रमाण पत्र है।\", fill=(0,0,0), font=hindi_font) # Hindi text with SC keyword (requires a Hindi font)\n",
        "    img.save(dummy_image_path)\n",
        "except ImportError:\n",
        "    print(\"Pillow is needed to create a dummy image. Please ensure it's installed.\")\n",
        "    dummy_image_path = None\n",
        "\n",
        "if dummy_image_path and os.path.exists(dummy_image_path):\n",
        "    try:\n",
        "        extracted_text, detected_category = process_and_detect_caste(dummy_image_path)\n",
        "\n",
        "        if extracted_text is not None and detected_category is not None:\n",
        "            print(\"Extracted Text:\")\n",
        "            print(extracted_text)\n",
        "            print(\"\\nDetected Caste Category:\")\n",
        "            print(detected_category)\n",
        "        else:\n",
        "            print(\"File processing or text extraction failed.\")\n",
        "\n",
        "    except Exception as e:\n",
        "        print(f\"An error occurred during processing: {e}\")\n",
        "\n",
        "    finally:\n",
        "        # Clean up the dummy file\n",
        "        if os.path.exists(dummy_image_path):\n",
        "            os.remove(dummy_image_path)\n",
        "else:\n",
        "    print(\"Could not create or find a dummy image file for testing.\")"
      ],
      "execution_count": 16,
      "outputs": [
        {
          "output_type": "stream",
          "name": "stdout",
          "text": [
            "Extracted Text:\n",
            "This sa certificate fora Scheduled Caste member.\n",
            "\n",
            "Detected Caste Category:\n",
            "SC\n"
          ]
        }
      ]
    },
    {
      "cell_type": "markdown",
      "metadata": {
        "id": "f58d8769"
      },
      "source": [
        "## Summary:\n",
        "\n",
        "### Data Analysis Key Findings\n",
        "\n",
        "*   A function `detect_caste_category` was successfully implemented using keyword matching in both English and Hindi to identify SC, ST, OBC, and EWS caste categories from extracted text.\n",
        "*   A new function `process_and_detect_caste` was created to integrate the OCR text extraction step with the caste detection function.\n",
        "*   Testing with a dummy image containing the phrase \"Scheduled Caste\" successfully demonstrated the extraction of text (\"This sa certificate fora Scheduled Caste member.\") and the correct detection of the caste category as \"SC\".\n",
        "\n",
        "### Insights or Next Steps\n",
        "\n",
        "*   Enhance the keyword lists in `detect_caste_category` with more variations and potentially regional terms to improve accuracy.\n",
        "*   Consider implementing more robust natural language processing (NLP) techniques beyond keyword matching for improved accuracy, especially for complex or nuanced text.\n"
      ]
    },
    {
      "cell_type": "markdown",
      "metadata": {
        "id": "cfd358db"
      },
      "source": [
        "# Task\n",
        "Implement a Python function that takes the text from a caste certificate, detects the caste category (SC, ST, OBC, EWS), and returns `True` if the caste is SC or ST, `False` if it is OBC or EWS, and raises a `ValueError` for any other category."
      ]
    },
    {
      "cell_type": "markdown",
      "metadata": {
        "id": "b5a9acb6"
      },
      "source": [
        "## Implement caste classification function\n",
        "\n",
        "### Subtask:\n",
        "Define a function `classify_caste` that takes the detected caste category as input and returns `True` for SC/ST, `False` for OBC/EWS, and raises an error for unknown categories.\n"
      ]
    },
    {
      "cell_type": "markdown",
      "metadata": {
        "id": "eb98f7eb"
      },
      "source": [
        "**Reasoning**:\n",
        "Define the `classify_caste` function according to the instructions, checking the input category against valid SC/ST and OBC/EWS categories and raising a ValueError for any other input.\n",
        "\n"
      ]
    },
    {
      "cell_type": "code",
      "metadata": {
        "id": "8e2e9ca9"
      },
      "source": [
        "def classify_caste(caste_category):\n",
        "    \"\"\"\n",
        "    Classifies caste category as True for SC/ST, False for OBC/EWS,\n",
        "    and raises ValueError for others.\n",
        "\n",
        "    Args:\n",
        "        caste_category: The detected caste category string.\n",
        "\n",
        "    Returns:\n",
        "        True if category is SC or ST, False if OBC or EWS.\n",
        "\n",
        "    Raises:\n",
        "        ValueError: If the caste_category is not SC, ST, OBC, or EWS.\n",
        "    \"\"\"\n",
        "    if caste_category in [\"SC\", \"ST\"]:\n",
        "        return True\n",
        "    elif caste_category in [\"OBC\", \"EWS\"]:\n",
        "        return False\n",
        "    else:\n",
        "        raise ValueError(f\"Invalid or unknown caste category: {caste_category}\")\n"
      ],
      "execution_count": 17,
      "outputs": []
    },
    {
      "cell_type": "markdown",
      "metadata": {
        "id": "ae5e1940"
      },
      "source": [
        "## Integrate caste classification\n",
        "\n",
        "### Subtask:\n",
        "Modify the function that integrates OCR and caste detection (`process_and_detect_caste`) to also include the caste classification step.\n"
      ]
    },
    {
      "cell_type": "markdown",
      "metadata": {
        "id": "94f6eeae"
      },
      "source": [
        "**Reasoning**:\n",
        "Modify the `process_and_detect_caste` function to include the caste classification step using the `classify_caste` function and handle potential ValueErrors.\n",
        "\n"
      ]
    },
    {
      "cell_type": "code",
      "metadata": {
        "id": "561d6b81"
      },
      "source": [
        "def process_and_detect_caste(file_path):\n",
        "    \"\"\"Handles file input, performs OCR, detects caste category, classifies it, and returns results.\n",
        "\n",
        "    Args:\n",
        "        file_path: The path to the file (image or PDF).\n",
        "\n",
        "    Returns:\n",
        "        A tuple containing the extracted text (string), the detected caste category (string),\n",
        "        and the boolean classification result (bool), or (None, None, None) if processing fails\n",
        "        or an unknown caste category is detected.\n",
        "    \"\"\"\n",
        "    extracted_text = process_file_with_ocr(file_path)\n",
        "\n",
        "    if extracted_text is None:\n",
        "        print(\"Error: Text extraction failed.\")\n",
        "        return None, None, None\n",
        "\n",
        "    detected_category = detect_caste_category(extracted_text)\n",
        "\n",
        "    try:\n",
        "        caste_classification = classify_caste(detected_category)\n",
        "        return extracted_text, detected_category, caste_classification\n",
        "    except ValueError as e:\n",
        "        print(f\"Error during caste classification: {e}\")\n",
        "        return extracted_text, detected_category, None\n"
      ],
      "execution_count": 18,
      "outputs": []
    },
    {
      "cell_type": "markdown",
      "metadata": {
        "id": "01805d1d"
      },
      "source": [
        "## Test with a dummy image\n",
        "\n",
        "### Subtask:\n",
        "Create a dummy image file with text including a caste keyword and test the `process_and_detect_caste` function."
      ]
    },
    {
      "cell_type": "markdown",
      "metadata": {
        "id": "e3966f22"
      },
      "source": [
        "**Reasoning**:\n",
        "Create a dummy image with text indicating a caste category (e.g., OBC) and use the `process_and_detect_caste` function to process it and print the results (extracted text, detected category, and classification)."
      ]
    },
    {
      "cell_type": "code",
      "metadata": {
        "colab": {
          "base_uri": "https://localhost:8080/"
        },
        "id": "fbcae084",
        "outputId": "15981849-51ad-4586-a755-f4176aba9881"
      },
      "source": [
        "from PIL import Image, ImageDraw\n",
        "import os\n",
        "\n",
        "# Create a dummy test file for demonstration purposes\n",
        "# This is replaced with the user's uploaded file for actual testing\n",
        "# dummy_image_path = \"/content/test_image_for_ocr.png\"\n",
        "test_image_path = \"/content/test_image_english.png\" # Using the user's uploaded file\n",
        "\n",
        "# try:\n",
        "#     img = Image.new('RGB', (500, 100), color = (255, 255, 255))\n",
        "#     d = ImageDraw.Draw(img)\n",
        "#     d.text((10,10), \"This certificate belongs to the Other Backward Class.\", fill=(0,0,0)) # English text with OBC keyword\n",
        "#     img.save(dummy_image_path)\n",
        "# except ImportError:\n",
        "#     print(\"Pillow is needed to create a dummy image. Please ensure it's installed.\")\n",
        "#     dummy_image_path = None\n",
        "\n",
        "if test_image_path and os.path.exists(test_image_path):\n",
        "    try:\n",
        "        extracted_text, detected_category, caste_classification = process_and_detect_caste(test_image_path)\n",
        "\n",
        "        if extracted_text is not None and detected_category is not None and caste_classification is not None:\n",
        "            print(\"Extracted Text:\")\n",
        "            print(extracted_text)\n",
        "            print(\"\\nDetected Caste Category:\")\n",
        "            print(detected_category)\n",
        "            print(\"\\nCaste Classification (SC/ST is True, OBC/EWS is False):\")\n",
        "            print(caste_classification)\n",
        "        elif extracted_text is not None and detected_category is not None and caste_classification is None:\n",
        "             print(\"Extracted Text:\")\n",
        "             print(extracted_text)\n",
        "             print(\"\\nDetected Caste Category:\")\n",
        "             print(detected_category)\n",
        "             print(\"\\nCaste Classification:\")\n",
        "             print(\"Unknown or invalid category, classification failed.\")\n",
        "        else:\n",
        "            print(\"File processing or text extraction failed.\")\n",
        "\n",
        "    except Exception as e:\n",
        "        print(f\"An error occurred during processing: {e}\")\n",
        "\n",
        "    finally:\n",
        "        # Clean up the dummy file (not the user's uploaded file)\n",
        "        # if os.path.exists(dummy_image_path):\n",
        "        #     os.remove(dummy_image_path)\n",
        "        pass # Do not remove the user's uploaded file\n",
        "else:\n",
        "    print(f\"Could not find the test image file at {test_image_path}\")"
      ],
      "execution_count": 23,
      "outputs": [
        {
          "output_type": "stream",
          "name": "stdout",
          "text": [
            "Extracted Text:\n",
            "a ea\n",
            "\n",
            "   \n",
            "\n",
            "‘The format of the certificate to be produced by Scheduled Castes or Scheduled Tribes candidates app lying for appointment to\n",
            "posts under the Government of India.\n",
            "\n",
            "This is to cextify that Shui /Shrimati/umani*\n",
            "\n",
            "sonidaughter* of of Village / Town* in\n",
            "DistricDivision* of State / Union Teritory® belongs to\n",
            "the Caste | Tribe* which is recognised as a Scheduled Caste / Scheduled Tnibe* under\n",
            "\n",
            "‘The Corstitstion (Scheduled Castes) Onder, 1950\n",
            "‘The Coretitstion Schadoled Tiber) Order, 1950\n",
            "\n",
            "‘The Comstnion (Scheduled Cartes) (Union Tesitories) Onder, 1950\n",
            "\n",
            "‘The Constitution (Scheduled Tribes) (Union Teritories) Onder, 1951\n",
            "\n",
            "(As amended by the Schudled Cartes and Scheduled Thbes Lit (Modification) Onder, 1956, the Bombay Re-ongansation\n",
            "Act, 1960, the Punjab Re-orgamisation Act, 1966, the State of Himachal Pradesh Act, 1970 and the North Eastern Azea (Re-\n",
            "cagersaton) Act 1971 snd te Scheduled Cartes and Scheduled Tiber Order (Asmendment) Act, 1976)\n",
            "\n",
            "‘The Corotitton Janam &¢Kashuas)Schwdled Casts onder, 1956\n",
            "\n",
            "“The Conettstion (Andaman and Nicobar Islands) Scheduled Tuber Order, 1959 @ az amended by the Scheduled Carter\n",
            "an Scheduled Tbe: Order (Amendment)Act, 1976.\n",
            "\n",
            "“The Consttstion (Dadsa ae Nagar Havel) Scheduled Castes Onder, 1962.\n",
            "\n",
            "‘The Consttion (Dadra and Nagar Havel) Scheduled Ties, Onder, 19636)\n",
            "\n",
            "‘The Conststion (Pondicheny) Scheduled Castes Onder, 19640\n",
            "\n",
            "‘The Constiation (Scheduled Tribes) (Uttar Pradesh) Onder, 1967@\n",
            "\n",
            "‘The Constttion (Gos, Damas and Dis) Scheduled Cartes Onder, 19680\n",
            "\n",
            "“The Conetittion (Goa, Daman and Dis) Scheduled Tiber Onder, 19686\n",
            "\n",
            "‘The Cowtitution (Nagaland) Scheduled Tubes Order, 1970@\n",
            "\n",
            "‘The Concttaton Sibson) Scheduled Castes Onder, 1978@\n",
            "\n",
            "The Conctitton Sikkim) Sebeduled Tubes Order, 1973\n",
            "\n",
            "“The Constitstion (Janam & Kachns) SchadledTbes onder 1959Q\n",
            "\n",
            "The Constitution (SC) orders (Amenimen) Act, 1990@\n",
            "\n",
            "The Conctitation (ST orders (Ammeseinent) Ondinance 1991@\n",
            "\n",
            "The Constitaton 7) orders (Second Amendment) Act, 1991@\n",
            "\n",
            "The Conotittion (7) onder: (Amerdient) Ordinance 1996,\n",
            "\n",
            "१६2 Applicable in the case of Scheduled Castes, Scheduled Tibes persons who have migrated fiom one State/Union Temitory Administration\n",
            "‘This certificate is issued on the basis ofthe Scheduled Castes/Scheduled tribes certificate issued to Shru/Shrimati\n",
            "\n",
            "Father/mother of Shri/Srimat/F-umani® of village/town®\n",
            "in District! Division* of the State/Union Territory* who belong to the\n",
            "CastrTibe which i recognized os « Scheduled Cast/Scheduled Tribe in the Stt/Union Teton” sued bythe\n",
            "ed\n",
            "63, Shui/Shrimati/fCumari * and Jor is /her* family, reside(s) in vllage/town™\n",
            "of, DistricDivision® of the State / Union Temitory” of\n",
            "Signature\n",
            "‘**Designation\n",
            "(with seal of Office)\n",
            "Place\n",
            "Date\n",
            "\n",
            "* Please delete the words which are not applicable\n",
            "@ Please quote specific Presidential Order\n",
            "Delete the paragraph which is not applicable\n",
            "\n",
            "NOTE: The term, ordinarily reside(s) used here will have the same meaning as in section 20 of the Representation of the People Act, 1950\n",
            "\n",
            "‘**  Listof authonties empowered to issue Caste/Trbe Certificates\n",
            "\n",
            "(District Magistrate/Additional District Magistrate/Collector/Deputy Commissioner/Additional Deputy Commissioner/Dy. Collector!\n",
            "Ist Class Stpendiary Magistrate/Sub-Divisional Magistrate/Extra-Assistant Commissionen/Taluka Magistate/Executive Magistrate.\n",
            "\n",
            "(Gi). Chief Presidency Magistrate/Additional Chief Presidency Magistrate/Presidenc y Magistrate\n",
            "\n",
            "(ii) Revenue Officers not below the rank of Tehsildar\n",
            "\n",
            "(iv) _Sub-Divisional Officers of the area where the candidate and/or his family normally resides\n",
            "\n",
            "NOTE: ST candidates belonging to Tamil Nadu state should submit caste certificate ONLY FROM THE REVENUE DIVISIONAL OFFICER\n",
            "\n",
            "Detected Caste Category:\n",
            "SC\n",
            "\n",
            "Caste Classification (SC/ST is True, OBC/EWS is False):\n",
            "True\n"
          ]
        }
      ]
    }
  ]
}